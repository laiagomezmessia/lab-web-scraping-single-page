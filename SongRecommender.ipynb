{
 "cells": [
  {
   "cell_type": "markdown",
   "id": "80e056b4",
   "metadata": {},
   "source": [
    "# Song Recommender"
   ]
  },
  {
   "cell_type": "code",
   "execution_count": 1,
   "id": "716ef6b8",
   "metadata": {},
   "outputs": [],
   "source": [
    "import pandas as pd\n",
    "import regex as re\n",
    "from random import randint\n",
    "\n",
    "import spotipy\n",
    "from spotipy.oauth2 import SpotifyClientCredentials\n",
    "from pandas import json_normalize\n",
    "import pickle\n",
    "from time import sleep\n",
    "\n",
    "from sklearn.cluster import KMeans"
   ]
  },
  {
   "cell_type": "code",
   "execution_count": 2,
   "id": "926c6bc9",
   "metadata": {},
   "outputs": [],
   "source": [
    "top_songs = pd.read_csv('top_songs.csv')\n",
    "playlist_cluster_df = pd.read_csv('playlist_cluster_df.csv')"
   ]
  },
  {
   "cell_type": "code",
   "execution_count": 3,
   "id": "4ecf0448",
   "metadata": {},
   "outputs": [],
   "source": [
    "def open_spotify_connection():\n",
    "    #Opens a new spotify connection\n",
    "    secrets_file = open(\"secrets.txt\",\"r\")\n",
    "    string = secrets_file.read()\n",
    "    secrets_dict={}\n",
    "    for line in string.split('\\n'):\n",
    "        if len(line) > 0:\n",
    "            #print(line.split(':'))\n",
    "            secrets_dict[line.split(':')[0]]=line.split(':')[1].strip()\n",
    "    sp = spotipy.Spotify(auth_manager=SpotifyClientCredentials(client_id=secrets_dict['clientid'],\n",
    "                                                           client_secret=secrets_dict['clientsecret']))\n",
    "    return sp;"
   ]
  },
  {
   "cell_type": "code",
   "execution_count": 4,
   "id": "e26a3a84",
   "metadata": {},
   "outputs": [],
   "source": [
    "def remove_special_characters(text):\n",
    "    # Remove special characters using a regular expression\n",
    "    return re.sub(r'[^a-zA-Z0-9\\s]', '', text)"
   ]
  },
  {
   "cell_type": "code",
   "execution_count": 5,
   "id": "58ca2b37",
   "metadata": {},
   "outputs": [],
   "source": [
    "def recommend_song(input_song, input_artist):\n",
    "\n",
    "    # Convert the user input and song names to lowercase for case-insensitive comparison\n",
    "    input_song_lower = input_song.lower()\n",
    "    input_artist_lower = input_artist.lower()\n",
    "\n",
    "    top_songs_lower = top_songs.apply(lambda x: x.str.lower().apply(remove_special_characters))\n",
    "    top_songs_lower['song'] = top_songs_lower['song'].apply(remove_special_characters)\n",
    "\n",
    "    # Check if the user-inputted song is in the top songs list (case-insensitive)\n",
    "    if input_song_lower in top_songs_lower['song'].values:\n",
    "        # Filter out the user-inputted song from the DataFrame\n",
    "        top_songs_without_input = top_songs[\n",
    "            top_songs_lower['song'] != input_song_lower\n",
    "        ]\n",
    "\n",
    "        # Recommend a random song from the filtered df\n",
    "        recommended_song = top_songs_without_input.sample().squeeze()\n",
    "\n",
    "        print(f\"You might also like: {recommended_song['song']} by {recommended_song['artist']}\")\n",
    "        \n",
    "    else:\n",
    "        \n",
    "        #Opening the spotify connection\n",
    "        sp = open_spotify_connection()\n",
    "\n",
    "        # Search for the user-inputted song and artist on Spotify\n",
    "        search_results = sp.search(q=f\"{input_song} {input_artist}\", type='track', limit =1 )\n",
    "\n",
    "        if not search_results['tracks']['items']:\n",
    "            print(\"Song not found on Spotify. Please try another song.\")\n",
    "            return\n",
    "\n",
    "        # Get the track ID for the user-inputted song\n",
    "        if search_results['tracks']['total']!=0 :\n",
    "            track_id = search_results['tracks']['items'][0]['id']\n",
    "            #print(track_id)\n",
    "        \n",
    "        # Getting the audio features using the id\n",
    "        new_data = sp.audio_features(track_id)\n",
    "        #print(type(new_data[0]))\n",
    "        data_df = json_normalize(new_data[0]) #normalizing the data to a df\n",
    "        num_data_df = data_df.select_dtypes(include='number') #getting the numerical data only to fit\n",
    "        #print(num_data_df)\n",
    "\n",
    "        #Using pickle to get the existing scaler and kmean\n",
    "        kmeans = pickle.load(open('kmeans.pkl', 'rb'))\n",
    "        scaler = pickle.load(open('X_prep.pkl','rb'))\n",
    "        X_prep = scaler.transform(num_data_df)\n",
    "        predicted_cluster = kmeans.predict(X_prep)\n",
    "        \n",
    "        # Predict the cluster for the input song using the clustering model\n",
    "        cluster = predicted_cluster[0]\n",
    "        #print(cluster)\n",
    "        \n",
    "        # Filter songs in the same cluster from the playlist DataFrame and\n",
    "        # Recommend a random song from the same cluster\n",
    "        recommended_song = playlist_cluster_df[playlist_cluster_df['cluster']== cluster].sample().squeeze()\n",
    "        # print(recommended_song)\n",
    "\n",
    "        print(f\"You might also like: {recommended_song['track.name']} by {recommended_song['name']}\")\n",
    "\n",
    "        # Introduce a respectful nap to avoid hitting rate limits\n",
    "        sleep(randint(1, 3000) / 1000)\n"
   ]
  },
  {
   "cell_type": "markdown",
   "id": "437e3618",
   "metadata": {},
   "source": [
    "## Enter a song and its artist to get a recommendation!"
   ]
  },
  {
   "cell_type": "code",
   "execution_count": 6,
   "id": "0dc53075",
   "metadata": {},
   "outputs": [
    {
     "name": "stdout",
     "output_type": "stream",
     "text": [
      "Enter a song: haul and drag\n",
      "Enter the artist: el pony pisador\n",
      "You might also like: Le monde est à pleurer by Jean Leloup\n",
      "Do you want another recommendation? (yes/no): yes\n",
      "Enter a song: happier than ever\n",
      "Enter the artist: bilie eilish\n",
      "You might also like: When a Man Loves a Woman by Michael Bolton\n",
      "Do you want another recommendation? (yes/no): yes\n",
      "Enter a song: respect\n",
      "Enter the artist: aretha franklin\n",
      "You might also like: Tiny Dancer by Elton John\n",
      "Do you want another recommendation? (yes/no): no\n",
      "Goodbye! Thanks for using the song recommender\n"
     ]
    }
   ],
   "source": [
    "# Get user input for song and artist\n",
    "input_song = input(\"Enter a song: \")\n",
    "input_artist = input(\"Enter the artist: \")\n",
    "\n",
    "while True:\n",
    "    recommend_song(input_song, input_artist)\n",
    "    \n",
    "    # Ask if the user wants another recommendation\n",
    "    user_response = input(\"Do you want another recommendation? (yes/no): \").lower()\n",
    "    \n",
    "    if user_response not in ['yes', 'y']:\n",
    "        # If the answer is not 'yes' or 'y', break out of the loop\n",
    "        break\n",
    "\n",
    "    # If the user wants another recommendation, get new input\n",
    "    input_song = input(\"Enter a song: \")\n",
    "    input_artist = input(\"Enter the artist: \")\n",
    "\n",
    "print(\"Goodbye! Thanks for using the song recommender\")"
   ]
  },
  {
   "cell_type": "code",
   "execution_count": null,
   "id": "c45f823e",
   "metadata": {},
   "outputs": [],
   "source": []
  }
 ],
 "metadata": {
  "kernelspec": {
   "display_name": "Python 3 (ipykernel)",
   "language": "python",
   "name": "python3"
  },
  "language_info": {
   "codemirror_mode": {
    "name": "ipython",
    "version": 3
   },
   "file_extension": ".py",
   "mimetype": "text/x-python",
   "name": "python",
   "nbconvert_exporter": "python",
   "pygments_lexer": "ipython3",
   "version": "3.9.13"
  }
 },
 "nbformat": 4,
 "nbformat_minor": 5
}
