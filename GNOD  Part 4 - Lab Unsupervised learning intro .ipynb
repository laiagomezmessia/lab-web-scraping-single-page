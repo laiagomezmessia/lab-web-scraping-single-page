{
 "cells": [
  {
   "cell_type": "code",
   "execution_count": null,
   "id": "9e02e7b4",
   "metadata": {},
   "outputs": [],
   "source": [
    "import pandas as pd\n",
    "import numpy as np\n",
    "import regex as re\n",
    "\n",
    "import matplotlib.pyplot as plt\n",
    "from matplotlib.lines import Line2D\n",
    "\n",
    "from sklearn import cluster, datasets\n",
    "from sklearn.preprocessing import StandardScaler\n",
    "from sklearn.cluster import KMeans\n",
    "\n",
    "import pickle\n",
    "\n",
    "import spotipy\n",
    "from spotipy.oauth2 import SpotifyClientCredentials\n",
    "from time import sleep\n",
    "from random import randint\n",
    "from pandas import json_normalize"
   ]
  },
  {
   "cell_type": "code",
   "execution_count": null,
   "id": "3a958bab",
   "metadata": {},
   "outputs": [],
   "source": [
    "# Importing csv"
   ]
  },
  {
   "cell_type": "code",
   "execution_count": null,
   "id": "1510c3fa",
   "metadata": {},
   "outputs": [],
   "source": [
    "top_songs = pd.read_csv('top_songs.csv')"
   ]
  },
  {
   "cell_type": "code",
   "execution_count": null,
   "id": "0daf353c",
   "metadata": {},
   "outputs": [],
   "source": [
    "top_songs"
   ]
  },
  {
   "cell_type": "code",
   "execution_count": null,
   "id": "c9e7a210",
   "metadata": {},
   "outputs": [],
   "source": [
    "playlist = pd.read_csv('df_playlist.csv')\n",
    "playlist"
   ]
  },
  {
   "cell_type": "code",
   "execution_count": null,
   "id": "a110990c",
   "metadata": {},
   "outputs": [],
   "source": [
    "X_playlist = playlist.select_dtypes(include='number')"
   ]
  },
  {
   "cell_type": "code",
   "execution_count": null,
   "id": "bbde0ffc",
   "metadata": {},
   "outputs": [],
   "source": [
    "# KMeans "
   ]
  },
  {
   "cell_type": "code",
   "execution_count": null,
   "id": "71424bc4",
   "metadata": {},
   "outputs": [],
   "source": [
    "from sklearn.preprocessing import StandardScaler\n",
    "transformer = StandardScaler().fit(X_playlist)\n",
    "X_prep=transformer.transform(X_playlist)\n",
    "# Now, all features will have the same weight.\n",
    "pd.DataFrame(X_prep,columns=X_playlist.columns).head()"
   ]
  },
  {
   "cell_type": "code",
   "execution_count": null,
   "id": "ec139211",
   "metadata": {},
   "outputs": [],
   "source": []
  },
  {
   "cell_type": "code",
   "execution_count": null,
   "id": "803bfdcd",
   "metadata": {},
   "outputs": [],
   "source": [
    "# Chosing K"
   ]
  },
  {
   "cell_type": "code",
   "execution_count": null,
   "id": "1d3e697c",
   "metadata": {},
   "outputs": [],
   "source": [
    "K = range(2, 20)\n",
    "inertia = []\n",
    "\n",
    "for k in K:\n",
    "    kmeans = KMeans(n_clusters=k,\n",
    "                    random_state=1234)\n",
    "    kmeans.fit(X_prep)\n",
    "    inertia.append(kmeans.inertia_)\n",
    "\n",
    "import matplotlib.pyplot as plt\n",
    "%matplotlib inline\n",
    "\n",
    "plt.figure(figsize=(16,8))\n",
    "plt.plot(K, inertia, 'bx-')\n",
    "plt.xlabel('k')\n",
    "plt.ylabel('inertia')\n",
    "plt.xticks(np.arange(min(K), max(K)+1, 1.0))\n",
    "plt.title('Elbow Method showing the optimal k')"
   ]
  },
  {
   "cell_type": "code",
   "execution_count": null,
   "id": "879c4e67",
   "metadata": {},
   "outputs": [],
   "source": [
    "from sklearn.metrics import silhouette_score\n",
    "K = range(2, 20)\n",
    "silhouette = []\n",
    "\n",
    "for k in K:\n",
    "    kmeans = KMeans(n_clusters=k,\n",
    "                    random_state=1234)\n",
    "    kmeans.fit(X_prep)\n",
    "    silhouette.append(silhouette_score(X_prep, kmeans.predict(X_prep)))\n",
    "\n",
    "\n",
    "plt.figure(figsize=(16,8))\n",
    "plt.plot(K, silhouette, 'bx-')\n",
    "plt.xlabel('k')\n",
    "plt.ylabel('silhouette score')\n",
    "plt.xticks(np.arange(min(K), max(K)+1, 1.0))\n",
    "plt.title('Slhouette score showing the optimal k')"
   ]
  },
  {
   "cell_type": "code",
   "execution_count": null,
   "id": "f12fd7c1",
   "metadata": {},
   "outputs": [],
   "source": [
    "kmeans = KMeans(n_clusters=17, random_state=1234)\n",
    "kmeans.fit(X_prep)"
   ]
  },
  {
   "cell_type": "code",
   "execution_count": null,
   "id": "9a845ef8",
   "metadata": {},
   "outputs": [],
   "source": [
    "# Predicting / assigning the clusters:\n",
    "clusters = kmeans.predict(X_prep)\n",
    "\n",
    "# Check the size of the clusters\n",
    "pd.Series(clusters).value_counts().sort_index()"
   ]
  },
  {
   "cell_type": "code",
   "execution_count": null,
   "id": "de02f02c",
   "metadata": {},
   "outputs": [],
   "source": [
    "# Saving my model"
   ]
  },
  {
   "cell_type": "code",
   "execution_count": null,
   "id": "9f47891f",
   "metadata": {},
   "outputs": [],
   "source": [
    "pickle.dump(kmeans, open('kmeans.pkl', 'wb'))"
   ]
  },
  {
   "cell_type": "code",
   "execution_count": null,
   "id": "945e295c",
   "metadata": {},
   "outputs": [],
   "source": [
    "pickle.dump(transformer, open('X_prep.pkl', 'wb'))"
   ]
  },
  {
   "cell_type": "code",
   "execution_count": null,
   "id": "46875f49",
   "metadata": {},
   "outputs": [],
   "source": [
    "# obtaining song's cluster number\n",
    "playlist['cluster']= clusters\n",
    "playlist"
   ]
  },
  {
   "cell_type": "code",
   "execution_count": null,
   "id": "10b6491d",
   "metadata": {},
   "outputs": [],
   "source": [
    "playlist_df = playlist[['track.name', 'name', 'cluster']]\n",
    "playlist_df"
   ]
  },
  {
   "cell_type": "code",
   "execution_count": null,
   "id": "a8a21e71",
   "metadata": {},
   "outputs": [],
   "source": [
    "playlist_df.to_csv('playlist_df.csv', index=False)"
   ]
  },
  {
   "cell_type": "code",
   "execution_count": null,
   "id": "a2f43029",
   "metadata": {},
   "outputs": [],
   "source": [
    "clusters"
   ]
  },
  {
   "cell_type": "code",
   "execution_count": null,
   "id": "900b3022",
   "metadata": {},
   "outputs": [],
   "source": [
    "plt.figure(figsize=(5, 5))\n",
    "plt.scatter(X_prep[:, 0], X_prep[:, 3], c=clusters,alpha=0.5)\n",
    "plt.show()"
   ]
  },
  {
   "cell_type": "code",
   "execution_count": null,
   "id": "7973a709",
   "metadata": {},
   "outputs": [],
   "source": [
    "# Authentification Spotify API"
   ]
  },
  {
   "cell_type": "code",
   "execution_count": null,
   "id": "f975af38",
   "metadata": {},
   "outputs": [],
   "source": [
    "secrets_file = open(\"secrets.txt\",\"r\")"
   ]
  },
  {
   "cell_type": "code",
   "execution_count": null,
   "id": "bb934bec",
   "metadata": {},
   "outputs": [],
   "source": [
    "string = secrets_file.read()"
   ]
  },
  {
   "cell_type": "code",
   "execution_count": null,
   "id": "ce83aad4",
   "metadata": {},
   "outputs": [],
   "source": [
    "secrets_dict={}\n",
    "for line in string.split('\\n'):\n",
    "    if len(line) > 0:\n",
    "        #print(line.split(':'))\n",
    "        secrets_dict[line.split(':')[0]]=line.split(':')[1].strip()"
   ]
  },
  {
   "cell_type": "code",
   "execution_count": null,
   "id": "237fd9bd",
   "metadata": {},
   "outputs": [],
   "source": [
    "#Initialize SpotiPy with user credentials\n",
    "sp = spotipy.Spotify(auth_manager=SpotifyClientCredentials(client_id=secrets_dict['clientid'],\n",
    "                                                           client_secret=secrets_dict['clientsecret']))"
   ]
  },
  {
   "cell_type": "code",
   "execution_count": null,
   "id": "f1eb01af",
   "metadata": {},
   "outputs": [],
   "source": []
  },
  {
   "cell_type": "code",
   "execution_count": null,
   "id": "91327db9",
   "metadata": {},
   "outputs": [],
   "source": [
    "def remove_special_characters(text):\n",
    "    # Remove special characters using a regular expression\n",
    "    return re.sub(r'[^a-zA-Z0-9\\s]', '', text)\n",
    "\n",
    "def recommend_song(input_song, input_artist):\n",
    "\n",
    "    # Convert the user input and song names to lowercase for case-insensitive comparison\n",
    "    input_song_lower = input_song.lower()\n",
    "    input_artist_lower = input_artist.lower()\n",
    "\n",
    "    top_songs_lower = top_songs.apply(lambda x: x.str.lower().apply(remove_special_characters))\n",
    "    top_songs_lower['song'] = top_songs_lower['song'].apply(remove_special_characters)\n",
    "\n",
    "    # Check if the user-inputted song is in the top songs list (case-insensitive)\n",
    "    if input_song_lower in top_songs_lower['song'].values:\n",
    "        # Filter out the user-inputted song from the DataFrame\n",
    "        top_songs_without_input = top_songs[\n",
    "            top_songs_lower['song'] != input_song_lower\n",
    "        ]\n",
    "\n",
    "        # Recommend a random song from the filtered df\n",
    "        recommended_song = top_songs_without_input.sample().squeeze()\n",
    "\n",
    "        print(f\"You might also like: {recommended_song['song']} by {recommended_song['artist']}\")\n",
    "        \n",
    "    else:\n",
    "        \n",
    "        #Opening the spotify connection\n",
    "        sp = open_spotify_connection()\n",
    "\n",
    "        # Search for the user-inputted song and artist on Spotify\n",
    "        search_results = sp.search(q=f\"{input_song} {input_artist}\", type='track', limit =1 )\n",
    "\n",
    "        if not search_results['tracks']['items']:\n",
    "            print(\"Song not found on Spotify. Please try another song.\")\n",
    "            return\n",
    "\n",
    "        # Get the track ID for the user-inputted song\n",
    "        if search_results['tracks']['total']!=0 :\n",
    "            track_id = search_results['tracks']['items'][0]['id']\n",
    "            #print(track_id)\n",
    "        \n",
    "        # Getting the audio features using the id\n",
    "        new_data = sp.audio_features(track_id)\n",
    "        #print(type(new_data[0]))\n",
    "        data_df = json_normalize(new_data[0]) #normalizing the data to a df\n",
    "        num_data_df = data_df.select_dtypes(include='number') #getting the numerical data only to fit\n",
    "        #print(num_data_df)\n",
    "\n",
    "        #Using pickle to get the existing scaler and kmean\n",
    "        kmeans = pickle.load(open('kmean.pkl', 'rb'))\n",
    "        scaler = pickle.load(open('scaler.pkl','rb'))\n",
    "        X_prep = scaler.transform(num_data_df)\n",
    "        predicted_cluster = kmeans.predict(X_prep)\n",
    "        \n",
    "        # Predict the cluster for the input song using the clustering model\n",
    "        cluster = predicted_cluster[0]\n",
    "        #print(cluster)\n",
    "        \n",
    "        # Filter songs in the same cluster from the playlist DataFrame and\n",
    "        # Recommend a random song from the same cluster\n",
    "        recommended_song = playlist_df[playlist_df['cluster']== cluster].sample().squeeze()\n",
    "        # print(recommended_song)\n",
    "\n",
    "        print(f\"You might also like: {recommended_song['track.name']} by {recommended_song['name']}\")\n",
    "\n",
    "        # Introduce a respectful nap to avoid hitting rate limits\n",
    "        sleep(randint(1, 3000) / 1000)\n"
   ]
  },
  {
   "cell_type": "code",
   "execution_count": null,
   "id": "7fe8859c",
   "metadata": {},
   "outputs": [],
   "source": [
    "def open_spotify_connection():\n",
    "    #Opens a new spotify connection\n",
    "    secrets_file = open(\"secrets.txt\",\"r\")\n",
    "    string = secrets_file.read()\n",
    "    secrets_dict={}\n",
    "    for line in string.split('\\n'):\n",
    "        if len(line) > 0:\n",
    "            #print(line.split(':'))\n",
    "            secrets_dict[line.split(':')[0]]=line.split(':')[1].strip()\n",
    "    sp = spotipy.Spotify(auth_manager=SpotifyClientCredentials(client_id=secrets_dict['clientid'],\n",
    "                                                           client_secret=secrets_dict['clientsecret']))\n",
    "    return sp;"
   ]
  },
  {
   "cell_type": "code",
   "execution_count": null,
   "id": "256143ea",
   "metadata": {},
   "outputs": [],
   "source": [
    "# Get user input for song and artist\n",
    "input_song = input(\"Enter a song: \")\n",
    "input_artist = input(\"Enter the artist: \")\n",
    "recommend_song(input_song, input_artist )"
   ]
  },
  {
   "cell_type": "code",
   "execution_count": null,
   "id": "76a90a55",
   "metadata": {},
   "outputs": [],
   "source": []
  }
 ],
 "metadata": {
  "kernelspec": {
   "display_name": "Python 3 (ipykernel)",
   "language": "python",
   "name": "python3"
  },
  "language_info": {
   "codemirror_mode": {
    "name": "ipython",
    "version": 3
   },
   "file_extension": ".py",
   "mimetype": "text/x-python",
   "name": "python",
   "nbconvert_exporter": "python",
   "pygments_lexer": "ipython3",
   "version": "3.9.13"
  }
 },
 "nbformat": 4,
 "nbformat_minor": 5
}
